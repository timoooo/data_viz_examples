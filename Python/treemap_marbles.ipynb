{
 "cells": [
  {
   "cell_type": "code",
   "execution_count": 1,
   "metadata": {},
   "outputs": [
    {
     "name": "stderr",
     "output_type": "stream",
     "text": [
      "/Users/tmo/opt/anaconda3/lib/python3.7/site-packages/sklearn/utils/deprecation.py:144: FutureWarning: The sklearn.tree.export module is  deprecated in version 0.22 and will be removed in version 0.24. The corresponding classes / functions should instead be imported from sklearn.tree. Anything that cannot be imported from sklearn.tree is now part of the private API.\n",
      "  warnings.warn(message, FutureWarning)\n"
     ]
    }
   ],
   "source": [
    "import pandas as pd\n",
    "import matplotlib.pyplot as plt\n",
    "import squarify \n",
    "import treeplot"
   ]
  },
  {
   "cell_type": "code",
   "execution_count": 2,
   "metadata": {},
   "outputs": [],
   "source": [
    "df = pd.read_csv(\"../datasets/marbles.csv\")"
   ]
  },
  {
   "cell_type": "code",
   "execution_count": 3,
   "metadata": {},
   "outputs": [
    {
     "data": {
      "text/html": [
       "<div>\n",
       "<style scoped>\n",
       "    .dataframe tbody tr th:only-of-type {\n",
       "        vertical-align: middle;\n",
       "    }\n",
       "\n",
       "    .dataframe tbody tr th {\n",
       "        vertical-align: top;\n",
       "    }\n",
       "\n",
       "    .dataframe thead th {\n",
       "        text-align: right;\n",
       "    }\n",
       "</style>\n",
       "<table border=\"1\" class=\"dataframe\">\n",
       "  <thead>\n",
       "    <tr style=\"text-align: right;\">\n",
       "      <th></th>\n",
       "      <th>date</th>\n",
       "      <th>race</th>\n",
       "      <th>site</th>\n",
       "      <th>source</th>\n",
       "      <th>marble_name</th>\n",
       "      <th>team_name</th>\n",
       "      <th>time_s</th>\n",
       "      <th>pole</th>\n",
       "      <th>points</th>\n",
       "      <th>track_length_m</th>\n",
       "      <th>number_laps</th>\n",
       "      <th>avg_time_lap</th>\n",
       "      <th>host</th>\n",
       "      <th>notes</th>\n",
       "    </tr>\n",
       "  </thead>\n",
       "  <tbody>\n",
       "    <tr>\n",
       "      <th>0</th>\n",
       "      <td>15-Feb-20</td>\n",
       "      <td>S1Q1</td>\n",
       "      <td>Savage Speedway</td>\n",
       "      <td>https://youtu.be/JtsQ_UydjEI?t=356</td>\n",
       "      <td>Clementin</td>\n",
       "      <td>O'rangers</td>\n",
       "      <td>28.11</td>\n",
       "      <td>P1</td>\n",
       "      <td>NaN</td>\n",
       "      <td>12.81</td>\n",
       "      <td>1</td>\n",
       "      <td>28.11</td>\n",
       "      <td>No</td>\n",
       "      <td>NaN</td>\n",
       "    </tr>\n",
       "    <tr>\n",
       "      <th>1</th>\n",
       "      <td>15-Feb-20</td>\n",
       "      <td>S1Q1</td>\n",
       "      <td>Savage Speedway</td>\n",
       "      <td>https://youtu.be/JtsQ_UydjEI?t=356</td>\n",
       "      <td>Starry</td>\n",
       "      <td>Team Galactic</td>\n",
       "      <td>28.37</td>\n",
       "      <td>P2</td>\n",
       "      <td>NaN</td>\n",
       "      <td>12.81</td>\n",
       "      <td>1</td>\n",
       "      <td>28.37</td>\n",
       "      <td>No</td>\n",
       "      <td>NaN</td>\n",
       "    </tr>\n",
       "    <tr>\n",
       "      <th>2</th>\n",
       "      <td>15-Feb-20</td>\n",
       "      <td>S1Q1</td>\n",
       "      <td>Savage Speedway</td>\n",
       "      <td>https://youtu.be/JtsQ_UydjEI?t=356</td>\n",
       "      <td>Momo</td>\n",
       "      <td>Team Momo</td>\n",
       "      <td>28.40</td>\n",
       "      <td>P3</td>\n",
       "      <td>NaN</td>\n",
       "      <td>12.81</td>\n",
       "      <td>1</td>\n",
       "      <td>28.40</td>\n",
       "      <td>No</td>\n",
       "      <td>NaN</td>\n",
       "    </tr>\n",
       "    <tr>\n",
       "      <th>3</th>\n",
       "      <td>15-Feb-20</td>\n",
       "      <td>S1Q1</td>\n",
       "      <td>Savage Speedway</td>\n",
       "      <td>https://youtu.be/JtsQ_UydjEI?t=356</td>\n",
       "      <td>Yellow</td>\n",
       "      <td>Mellow Yellow</td>\n",
       "      <td>28.70</td>\n",
       "      <td>P4</td>\n",
       "      <td>NaN</td>\n",
       "      <td>12.81</td>\n",
       "      <td>1</td>\n",
       "      <td>28.70</td>\n",
       "      <td>No</td>\n",
       "      <td>NaN</td>\n",
       "    </tr>\n",
       "    <tr>\n",
       "      <th>4</th>\n",
       "      <td>15-Feb-20</td>\n",
       "      <td>S1Q1</td>\n",
       "      <td>Savage Speedway</td>\n",
       "      <td>https://youtu.be/JtsQ_UydjEI?t=356</td>\n",
       "      <td>Snowy</td>\n",
       "      <td>Snowballs</td>\n",
       "      <td>28.71</td>\n",
       "      <td>P5</td>\n",
       "      <td>NaN</td>\n",
       "      <td>12.81</td>\n",
       "      <td>1</td>\n",
       "      <td>28.71</td>\n",
       "      <td>No</td>\n",
       "      <td>NaN</td>\n",
       "    </tr>\n",
       "  </tbody>\n",
       "</table>\n",
       "</div>"
      ],
      "text/plain": [
       "        date  race             site                              source  \\\n",
       "0  15-Feb-20  S1Q1  Savage Speedway  https://youtu.be/JtsQ_UydjEI?t=356   \n",
       "1  15-Feb-20  S1Q1  Savage Speedway  https://youtu.be/JtsQ_UydjEI?t=356   \n",
       "2  15-Feb-20  S1Q1  Savage Speedway  https://youtu.be/JtsQ_UydjEI?t=356   \n",
       "3  15-Feb-20  S1Q1  Savage Speedway  https://youtu.be/JtsQ_UydjEI?t=356   \n",
       "4  15-Feb-20  S1Q1  Savage Speedway  https://youtu.be/JtsQ_UydjEI?t=356   \n",
       "\n",
       "  marble_name      team_name  time_s pole  points  track_length_m  \\\n",
       "0   Clementin      O'rangers   28.11   P1     NaN           12.81   \n",
       "1      Starry  Team Galactic   28.37   P2     NaN           12.81   \n",
       "2        Momo      Team Momo   28.40   P3     NaN           12.81   \n",
       "3      Yellow  Mellow Yellow   28.70   P4     NaN           12.81   \n",
       "4       Snowy      Snowballs   28.71   P5     NaN           12.81   \n",
       "\n",
       "   number_laps  avg_time_lap host notes  \n",
       "0            1         28.11   No   NaN  \n",
       "1            1         28.37   No   NaN  \n",
       "2            1         28.40   No   NaN  \n",
       "3            1         28.70   No   NaN  \n",
       "4            1         28.71   No   NaN  "
      ]
     },
     "execution_count": 3,
     "metadata": {},
     "output_type": "execute_result"
    }
   ],
   "source": [
    "df.head()"
   ]
  },
  {
   "cell_type": "code",
   "execution_count": 4,
   "metadata": {},
   "outputs": [
    {
     "data": {
      "text/plain": [
       "<matplotlib.axes._subplots.AxesSubplot at 0x7ffe166fd090>"
      ]
     },
     "execution_count": 4,
     "metadata": {},
     "output_type": "execute_result"
    },
    {
     "data": {
      "image/png": "[encoded data removed]",
      "text/plain": [
       "<Figure size 432x288 with 1 Axes>"
      ]
     },
     "metadata": {
      "needs_background": "light"
     },
     "output_type": "display_data"
    }
   ],
   "source": [
    "squarify.plot(sizes=[13,22,35,5], label=[\"group A\", \"group B\", \"group C\", \"group D\"], alpha=.7 ) "
   ]
  },
  {
   "cell_type": "code",
   "execution_count": 5,
   "metadata": {},
   "outputs": [],
   "source": [
    "labels = list(dict.fromkeys(df[\"team_name\"]))"
   ]
  },
  {
   "cell_type": "code",
   "execution_count": 6,
   "metadata": {},
   "outputs": [],
   "source": [
    "def getAvgSpeed(length,time):\n",
    "    return length/time\n",
    "\n",
    "def getAvgSpeedList(df):\n",
    "    ret = []\n",
    "    for i,row in df.iterrows():\n",
    "        ret.append(getAvgSpeed(df[\"time_s\"][i],df[\"avg_time_lap\"][i]))\n",
    "    return ret"
   ]
  },
  {
   "cell_type": "code",
   "execution_count": 7,
   "metadata": {},
   "outputs": [
    {
     "data": {
      "text/html": [
       "<div>\n",
       "<style scoped>\n",
       "    .dataframe tbody tr th:only-of-type {\n",
       "        vertical-align: middle;\n",
       "    }\n",
       "\n",
       "    .dataframe tbody tr th {\n",
       "        vertical-align: top;\n",
       "    }\n",
       "\n",
       "    .dataframe thead th {\n",
       "        text-align: right;\n",
       "    }\n",
       "</style>\n",
       "<table border=\"1\" class=\"dataframe\">\n",
       "  <thead>\n",
       "    <tr style=\"text-align: right;\">\n",
       "      <th></th>\n",
       "      <th>time_s</th>\n",
       "      <th>points</th>\n",
       "      <th>track_length_m</th>\n",
       "      <th>number_laps</th>\n",
       "      <th>avg_time_lap</th>\n",
       "    </tr>\n",
       "    <tr>\n",
       "      <th>team_name</th>\n",
       "      <th></th>\n",
       "      <th></th>\n",
       "      <th></th>\n",
       "      <th></th>\n",
       "      <th></th>\n",
       "    </tr>\n",
       "  </thead>\n",
       "  <tbody>\n",
       "    <tr>\n",
       "      <th>Balls of Chaos</th>\n",
       "      <td>193.175000</td>\n",
       "      <td>5.750</td>\n",
       "      <td>13.2225</td>\n",
       "      <td>6.25</td>\n",
       "      <td>30.061875</td>\n",
       "    </tr>\n",
       "    <tr>\n",
       "      <th>Green Ducks</th>\n",
       "      <td>191.760000</td>\n",
       "      <td>8.000</td>\n",
       "      <td>13.2225</td>\n",
       "      <td>6.25</td>\n",
       "      <td>29.598125</td>\n",
       "    </tr>\n",
       "    <tr>\n",
       "      <th>Hazers</th>\n",
       "      <td>190.516875</td>\n",
       "      <td>11.750</td>\n",
       "      <td>13.2225</td>\n",
       "      <td>6.25</td>\n",
       "      <td>29.201250</td>\n",
       "    </tr>\n",
       "    <tr>\n",
       "      <th>Hornets</th>\n",
       "      <td>193.843125</td>\n",
       "      <td>1.000</td>\n",
       "      <td>13.2225</td>\n",
       "      <td>6.25</td>\n",
       "      <td>29.982500</td>\n",
       "    </tr>\n",
       "    <tr>\n",
       "      <th>Limers</th>\n",
       "      <td>184.694667</td>\n",
       "      <td>3.125</td>\n",
       "      <td>13.2225</td>\n",
       "      <td>6.25</td>\n",
       "      <td>30.245333</td>\n",
       "    </tr>\n",
       "    <tr>\n",
       "      <th>Mellow Yellow</th>\n",
       "      <td>192.246250</td>\n",
       "      <td>5.500</td>\n",
       "      <td>13.2225</td>\n",
       "      <td>6.25</td>\n",
       "      <td>29.370000</td>\n",
       "    </tr>\n",
       "    <tr>\n",
       "      <th>Midnight Wisps</th>\n",
       "      <td>183.458667</td>\n",
       "      <td>4.250</td>\n",
       "      <td>13.2225</td>\n",
       "      <td>6.25</td>\n",
       "      <td>29.068667</td>\n",
       "    </tr>\n",
       "    <tr>\n",
       "      <th>O'rangers</th>\n",
       "      <td>191.639375</td>\n",
       "      <td>8.625</td>\n",
       "      <td>13.2225</td>\n",
       "      <td>6.25</td>\n",
       "      <td>29.396250</td>\n",
       "    </tr>\n",
       "    <tr>\n",
       "      <th>Raspberry Racers</th>\n",
       "      <td>192.618125</td>\n",
       "      <td>3.375</td>\n",
       "      <td>13.2225</td>\n",
       "      <td>6.25</td>\n",
       "      <td>29.734375</td>\n",
       "    </tr>\n",
       "    <tr>\n",
       "      <th>Rojo Rollers</th>\n",
       "      <td>193.259375</td>\n",
       "      <td>4.000</td>\n",
       "      <td>13.2225</td>\n",
       "      <td>6.25</td>\n",
       "      <td>30.014375</td>\n",
       "    </tr>\n",
       "    <tr>\n",
       "      <th>Savage Speeders</th>\n",
       "      <td>191.068125</td>\n",
       "      <td>12.625</td>\n",
       "      <td>13.2225</td>\n",
       "      <td>6.25</td>\n",
       "      <td>29.436250</td>\n",
       "    </tr>\n",
       "    <tr>\n",
       "      <th>Snowballs</th>\n",
       "      <td>192.031875</td>\n",
       "      <td>8.250</td>\n",
       "      <td>13.2225</td>\n",
       "      <td>6.25</td>\n",
       "      <td>29.685625</td>\n",
       "    </tr>\n",
       "    <tr>\n",
       "      <th>Team Galactic</th>\n",
       "      <td>192.257500</td>\n",
       "      <td>8.000</td>\n",
       "      <td>13.2225</td>\n",
       "      <td>6.25</td>\n",
       "      <td>29.795625</td>\n",
       "    </tr>\n",
       "    <tr>\n",
       "      <th>Team Momo</th>\n",
       "      <td>192.884375</td>\n",
       "      <td>6.125</td>\n",
       "      <td>13.2225</td>\n",
       "      <td>6.25</td>\n",
       "      <td>29.718750</td>\n",
       "    </tr>\n",
       "    <tr>\n",
       "      <th>Team Primary</th>\n",
       "      <td>183.791333</td>\n",
       "      <td>6.750</td>\n",
       "      <td>13.2225</td>\n",
       "      <td>6.25</td>\n",
       "      <td>30.169333</td>\n",
       "    </tr>\n",
       "    <tr>\n",
       "      <th>Thunderbolts</th>\n",
       "      <td>192.901250</td>\n",
       "      <td>6.125</td>\n",
       "      <td>13.2225</td>\n",
       "      <td>6.25</td>\n",
       "      <td>29.693125</td>\n",
       "    </tr>\n",
       "  </tbody>\n",
       "</table>\n",
       "</div>"
      ],
      "text/plain": [
       "                      time_s  points  track_length_m  number_laps  \\\n",
       "team_name                                                           \n",
       "Balls of Chaos    193.175000   5.750         13.2225         6.25   \n",
       "Green Ducks       191.760000   8.000         13.2225         6.25   \n",
       "Hazers            190.516875  11.750         13.2225         6.25   \n",
       "Hornets           193.843125   1.000         13.2225         6.25   \n",
       "Limers            184.694667   3.125         13.2225         6.25   \n",
       "Mellow Yellow     192.246250   5.500         13.2225         6.25   \n",
       "Midnight Wisps    183.458667   4.250         13.2225         6.25   \n",
       "O'rangers         191.639375   8.625         13.2225         6.25   \n",
       "Raspberry Racers  192.618125   3.375         13.2225         6.25   \n",
       "Rojo Rollers      193.259375   4.000         13.2225         6.25   \n",
       "Savage Speeders   191.068125  12.625         13.2225         6.25   \n",
       "Snowballs         192.031875   8.250         13.2225         6.25   \n",
       "Team Galactic     192.257500   8.000         13.2225         6.25   \n",
       "Team Momo         192.884375   6.125         13.2225         6.25   \n",
       "Team Primary      183.791333   6.750         13.2225         6.25   \n",
       "Thunderbolts      192.901250   6.125         13.2225         6.25   \n",
       "\n",
       "                  avg_time_lap  \n",
       "team_name                       \n",
       "Balls of Chaos       30.061875  \n",
       "Green Ducks          29.598125  \n",
       "Hazers               29.201250  \n",
       "Hornets              29.982500  \n",
       "Limers               30.245333  \n",
       "Mellow Yellow        29.370000  \n",
       "Midnight Wisps       29.068667  \n",
       "O'rangers            29.396250  \n",
       "Raspberry Racers     29.734375  \n",
       "Rojo Rollers         30.014375  \n",
       "Savage Speeders      29.436250  \n",
       "Snowballs            29.685625  \n",
       "Team Galactic        29.795625  \n",
       "Team Momo            29.718750  \n",
       "Team Primary         30.169333  \n",
       "Thunderbolts         29.693125  "
      ]
     },
     "execution_count": 7,
     "metadata": {},
     "output_type": "execute_result"
    }
   ],
   "source": [
    "df_means = df.groupby(\"team_name\").mean()\n",
    "df_means"
   ]
  },
  {
   "cell_type": "code",
   "execution_count": 8,
   "metadata": {},
   "outputs": [],
   "source": [
    "df_means[\"avg_speed\"] = getAvgSpeedList(df_means)"
   ]
  },
  {
   "cell_type": "code",
   "execution_count": 9,
   "metadata": {},
   "outputs": [
    {
     "data": {
      "text/plain": [
       "<matplotlib.axes._subplots.AxesSubplot at 0x7ffe167517d0>"
      ]
     },
     "execution_count": 9,
     "metadata": {},
     "output_type": "execute_result"
    },
    {
     "data": {
      "image/png": "[encoded data removed]",
      "text/plain": [
       "<Figure size 432x288 with 1 Axes>"
      ]
     },
     "metadata": {
      "needs_background": "light"
     },
     "output_type": "display_data"
    }
   ],
   "source": [
    "squarify.plot(sizes=df_means[\"points\"], label=labels, alpha=.5 ) "
   ]
  },
  {
   "cell_type": "code",
   "execution_count": null,
   "metadata": {},
   "outputs": [],
   "source": []
  }
 ],
 "metadata": {
  "kernelspec": {
   "display_name": "Python 3",
   "language": "python",
   "name": "python3"
  },
  "language_info": {
   "codemirror_mode": {
    "name": "ipython",
    "version": 3
   },
   "file_extension": ".py",
   "mimetype": "text/x-python",
   "name": "python",
   "nbconvert_exporter": "python",
   "pygments_lexer": "ipython3",
   "version": "3.7.6"
  }
 },
 "nbformat": 4,
 "nbformat_minor": 4
}
